{
 "cells": [
  {
   "cell_type": "code",
   "execution_count": 1,
   "id": "cac814d9",
   "metadata": {},
   "outputs": [
    {
     "name": "stdout",
     "output_type": "stream",
     "text": [
      "Pension:100\n"
     ]
    }
   ],
   "source": [
    "pension = input('Pension:')"
   ]
  },
  {
   "cell_type": "code",
   "execution_count": 2,
   "id": "c1199f03",
   "metadata": {},
   "outputs": [],
   "source": [
    "def token_bonus (pension):\n",
    "    return int(int(pension)/100)"
   ]
  },
  {
   "cell_type": "code",
   "execution_count": 10,
   "id": "42769559",
   "metadata": {},
   "outputs": [
    {
     "name": "stdout",
     "output_type": "stream",
     "text": [
      "Welcome to the slot game!\n",
      "You have 11 tokens.\n",
      "Bet amount:5\n",
      "\n",
      "| € | £ | € |\n",
      "\n",
      "You lost this time.\n",
      "You have 6 tokens.\n",
      "Bet amount:5\n",
      "\n",
      "| $ | £ | € |\n",
      "\n",
      "You lost this time.\n",
      "You have 1 tokens.\n",
      "Bet amount:5\n",
      "Not enough tokens.\n",
      "You have 1 tokens.\n",
      "Bet amount:1\n",
      "\n",
      "| £ | £ | £ |\n",
      "\n",
      "Congratulation! You have won £ 10 .\n",
      "You are out of tokens.\n",
      "Your current pension is £ 170\n"
     ]
    }
   ],
   "source": [
    "import random as rn\n",
    "symbols = ['€','£','$']\n",
    "\n",
    "tokens = 10 + token_bonus(pension)\n",
    "print('Welcome to the slot game!')\n",
    "\n",
    "while tokens > 0:\n",
    "    print('You have', tokens, 'tokens.')\n",
    "    try:\n",
    "        bet = int(input('Bet amount:')) \n",
    "    except:\n",
    "        print('Please enter a whole number of tokens.')\n",
    "        continue\n",
    "    if bet > tokens:\n",
    "        print('Not enough tokens.')\n",
    "    elif bet < 1:\n",
    "        print('Please enter a positive number of tokens.')\n",
    "    else:\n",
    "        tokens -= bet\n",
    "        sq_one, sq_two, sq_three = rn.choices(symbols, weights=[1,1,2])[0], rn.choices(symbols, weights=[1,2,1])[0], rn.choices(symbols, weights=[2,1,1])[0]\n",
    "            \n",
    "        print() \n",
    "        print('|', sq_one, '|', sq_two, '|', sq_three, '|')\n",
    "        print()\n",
    "            \n",
    "        if sq_one == sq_two and sq_two == sq_three:\n",
    "            amountwon = bet*10\n",
    "            print(\"Congratulation! You have won £\", amountwon, '.')\n",
    "            pension = int(pension) + amountwon\n",
    "        else:\n",
    "            print('You lost this time.')\n",
    "print('You are out of tokens.')\n",
    "print('Your current pension is £', pension)"
   ]
  },
  {
   "cell_type": "markdown",
   "id": "cf1ee2bf",
   "metadata": {},
   "source": [
    " "
   ]
  }
 ],
 "metadata": {
  "kernelspec": {
   "display_name": "Python 3",
   "language": "python",
   "name": "python3"
  },
  "language_info": {
   "codemirror_mode": {
    "name": "ipython",
    "version": 3
   },
   "file_extension": ".py",
   "mimetype": "text/x-python",
   "name": "python",
   "nbconvert_exporter": "python",
   "pygments_lexer": "ipython3",
   "version": "3.8.8"
  }
 },
 "nbformat": 4,
 "nbformat_minor": 5
}
